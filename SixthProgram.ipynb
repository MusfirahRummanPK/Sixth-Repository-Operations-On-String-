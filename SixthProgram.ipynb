{
 "cells": [
  {
   "cell_type": "markdown",
   "id": "aacf0efc",
   "metadata": {},
   "source": [
    " # String in Python \n",
    " ### Defination :\n",
    " ##### A String is a sequence of characters enclosed in either single quotes ('') or double quotes (\"\") .  In Python strings are used for representing textual data . It can be anything - letters , numbers and symbols .\n",
    " # Operations on Strings \n",
    " ##### Python strings have 47 methods . That's almost as many string methods as there are built-in functions in python !\n",
    " # Benefits \n",
    " ### 1. Efficient text prosessing \n",
    " #### Definition : \n",
    " ##### Python's string operations enable fast and efficient manipulation of text data .\n",
    " ### 2. Improved code readability \n",
    " #### Definition :\n",
    " ##### String methods and operations make code more concise and readable .\n",
    " ### 3. Enhanced data analysis \n",
    " #### Definition :\n",
    " ##### String operations facilitate data cleaning , pre-prosessing and analysis .\n",
    " ### 4. Better user experience \n",
    " #### Definition :\n",
    " ##### String formatting and manipulation enable dynamic and personalized output .\n",
    " #### Here are some of em :-\n",
    " ### (i). Joining Strings Together ( Concatenation )\n",
    " #### Definition :\n",
    " ##### It is used to combine two or more strings into a single string , it's like joining lego blocks . The addition operator ( + ) is used for adding numbers as well as joining strings together in python .\n",
    " #### Example :"
   ]
  },
  {
   "cell_type": "code",
   "execution_count": 1,
   "id": "6ef5cad3",
   "metadata": {},
   "outputs": [
    {
     "name": "stdout",
     "output_type": "stream",
     "text": [
      "Jung Hoseok\n"
     ]
    }
   ],
   "source": [
    "first_name = \"Jung\"\n",
    "last_name = \"Hoseok\"\n",
    "full_name = first_name + \" \" + last_name \n",
    "print(full_name)"
   ]
  },
  {
   "cell_type": "markdown",
   "id": "12b1e545",
   "metadata": {},
   "source": [
    "### (ii). Repeating Strings ( Repetition )\n",
    "#### Definition :\n",
    "##### In Python , you can multiply strings to create a new string that repeats the original string a certain number of times . This technique is known as string repetition or string replication . The multiplication operator ( * ) is used to repeat a string a specified number of times .\n",
    "#### Example :"
   ]
  },
  {
   "cell_type": "code",
   "execution_count": 9,
   "id": "12ec1506",
   "metadata": {},
   "outputs": [
    {
     "name": "stdout",
     "output_type": "stream",
     "text": [
      "ArmyArmyArmyArmyArmyArmyArmy\n"
     ]
    }
   ],
   "source": [
    "cheer = \"Army\"\n",
    "print(cheer * 7)"
   ]
  },
  {
   "cell_type": "markdown",
   "id": "ca5a388f",
   "metadata": {},
   "source": [
    "### (iii). Accessing Specific Characters ( Indexing )\n",
    "#### Definition :\n",
    "##### In Python , indexing allows you to access individual characters in a string directly by using a numeric value . String indexing is zero-based i.e. the first character in the string has index 0 , the next is 1 and so on .\n",
    "#### Example :"
   ]
  },
  {
   "cell_type": "code",
   "execution_count": 15,
   "id": "7d0c820b",
   "metadata": {},
   "outputs": [
    {
     "name": "stdout",
     "output_type": "stream",
     "text": [
      "B\n",
      "T\n",
      "S\n"
     ]
    }
   ],
   "source": [
    "group = \"BangTan Sonyeondan\"\n",
    "print(group[0])\n",
    "print(group[4])\n",
    "print(group[8])"
   ]
  },
  {
   "cell_type": "markdown",
   "id": "a89b85aa",
   "metadata": {},
   "source": [
    "### (iv). Getting Parts of a String ( Slicing )\n",
    "#### Definition :\n",
    "##### In Python , string slicing allows you to extract a portion of a string by specifying a start and end index .It follows the format string [start:end], where start is the index where slicing begins (inclusive) and end is the index where it ends (exclusive) .\n",
    "#### Example :"
   ]
  },
  {
   "cell_type": "code",
   "execution_count": 16,
   "id": "118821a5",
   "metadata": {},
   "outputs": [
    {
     "name": "stdout",
     "output_type": "stream",
     "text": [
      "Jungkook\n"
     ]
    }
   ],
   "source": [
    "name = \"Jeon Jungkook\"\n",
    "print(name[5:13])"
   ]
  },
  {
   "cell_type": "markdown",
   "id": "808cb185",
   "metadata": {},
   "source": [
    "### (v). Finding String Size ( Length )\n",
    "#### Definition :\n",
    "##### In Python , we use the built-in [ len() ] funtion which returns the length of the string i.e.it counts how many letters or characters are in it .\n",
    "### Example :"
   ]
  },
  {
   "cell_type": "code",
   "execution_count": 18,
   "id": "822b9ede",
   "metadata": {},
   "outputs": [
    {
     "name": "stdout",
     "output_type": "stream",
     "text": [
      "13\n"
     ]
    }
   ],
   "source": [
    "sentence = \"I Purple You!\"\n",
    "print(len(sentence))"
   ]
  },
  {
   "cell_type": "markdown",
   "id": "fd84d858",
   "metadata": {},
   "source": [
    "### (vi). Change Letter Case ( Case Conversion )\n",
    "#### Definition :\n",
    "##### In Python , performing [ .upper() ] method on a string converts all of the characters to uppercase , whereas the [ .lower() ] method converts all of the characters to lowercase .\n",
    "#### Example :"
   ]
  },
  {
   "cell_type": "code",
   "execution_count": 2,
   "id": "8d2f7b33",
   "metadata": {},
   "outputs": [
    {
     "name": "stdout",
     "output_type": "stream",
     "text": [
      "park jimin\n",
      "JIMINSHI\n"
     ]
    }
   ],
   "source": [
    "name = \"PARK JIMIN\"\n",
    "maknae_style = \"jiminshi\"\n",
    "print(name.lower())\n",
    "print(maknae_style.upper())"
   ]
  },
  {
   "cell_type": "markdown",
   "id": "d698ced8",
   "metadata": {},
   "source": [
    "### (vii). Check if Sommething is Inside ( Membership )\n",
    "#### Definition :\n",
    "##### In Python , membership operators are used to test if a value existswithin a sequence . The two membersship operators are (in) and (not in) . the (in) operator checks if an element is present , while (not in) checks if an element is absent .\n",
    "#### Example :"
   ]
  },
  {
   "cell_type": "code",
   "execution_count": 5,
   "id": "dcd5c75d",
   "metadata": {},
   "outputs": [
    {
     "name": "stdout",
     "output_type": "stream",
     "text": [
      "True\n",
      "False\n",
      "True\n"
     ]
    }
   ],
   "source": [
    "stage_name = \"Rap Monster\"\n",
    "print(\"R\" in stage_name)\n",
    "print(\"J\" in stage_name)\n",
    "print(\"N\" not in stage_name)\n"
   ]
  },
  {
   "cell_type": "markdown",
   "id": "a3b29644",
   "metadata": {},
   "source": [
    "### (viii). Change a Word or Letter ( Replacement or Substitution )\n",
    "#### Definition :\n",
    "##### Sring replacement is the processof substituting a specified substring or character with another substring or character within a given string . In Python , this can be achieved using methods like [ .replace() ] or [ .sub() ] .\n",
    "#### Example :"
   ]
  },
  {
   "cell_type": "code",
   "execution_count": 6,
   "id": "400a7e30",
   "metadata": {},
   "outputs": [
    {
     "name": "stdout",
     "output_type": "stream",
     "text": [
      "Bullet Proof Boy Scouts\n"
     ]
    }
   ],
   "source": [
    "name = \"Bullet Proof Boys\"\n",
    "new_name = name.replace (\"Boys\",\"Boy Scouts\")\n",
    "print(new_name)"
   ]
  },
  {
   "cell_type": "markdown",
   "id": "881e08a1",
   "metadata": {},
   "source": [
    "### (ix). Breaking a Sentence into Words ( Splitting or Tokenization )\n",
    "#### Definition :\n",
    "##### Tokenization is the process of breaking a string into individual words , phrases or tokens allowing for easier anaylysis , processing or manipulation of the text data . In Python , tekenization can be achieved using methods like [ .split() ] , which splits a string into a list of words or token based on specified separators . \n",
    "#### Example :"
   ]
  },
  {
   "cell_type": "code",
   "execution_count": 7,
   "id": "8e0834a7",
   "metadata": {},
   "outputs": [
    {
     "name": "stdout",
     "output_type": "stream",
     "text": [
      "['BTS', 'will', 'return', 'in', 'June', '2025']\n"
     ]
    }
   ],
   "source": [
    "sentence = \"BTS will return in June 2025\"\n",
    "words = sentence.split()\n",
    "print(words)"
   ]
  },
  {
   "cell_type": "markdown",
   "id": "1805d43d",
   "metadata": {},
   "source": [
    "### (x). Glue Words Together ( Merging or Combining )\n",
    "#### Definition : \n",
    "##### The [ .join() ] method is a string method that concatenates a sequence of strings ( such as a lst or tuple ) into a single string . it joins words together to make a sentence as well as broken strings .\n",
    "#### Example :"
   ]
  },
  {
   "cell_type": "code",
   "execution_count": 8,
   "id": "70ae3c3d",
   "metadata": {},
   "outputs": [
    {
     "name": "stdout",
     "output_type": "stream",
     "text": [
      "BTS fans are called Armys\n"
     ]
    }
   ],
   "source": [
    "words = [\"BTS\", \"fans\", \"are\", \"called\", \"Armys\"]\n",
    "result = \" \".join(words)\n",
    "print(result)"
   ]
  }
 ],
 "metadata": {
  "kernelspec": {
   "display_name": "base",
   "language": "python",
   "name": "python3"
  },
  "language_info": {
   "codemirror_mode": {
    "name": "ipython",
    "version": 3
   },
   "file_extension": ".py",
   "mimetype": "text/x-python",
   "name": "python",
   "nbconvert_exporter": "python",
   "pygments_lexer": "ipython3",
   "version": "3.12.7"
  }
 },
 "nbformat": 4,
 "nbformat_minor": 5
}
